{
 "cells": [
  {
   "cell_type": "code",
   "execution_count": 1,
   "metadata": {},
   "outputs": [],
   "source": [
    "# importing required libraries\n",
    "\n",
    "import pandas as pd\n",
    "import numpy as np"
   ]
  },
  {
   "cell_type": "code",
   "execution_count": 2,
   "metadata": {},
   "outputs": [
    {
     "name": "stdout",
     "output_type": "stream",
     "text": [
      "Shape of ratings dataset is:  (26024289, 3) \n",
      "\n",
      "Max values in dataset are \n",
      " userId     270896.0\n",
      "movieId    176275.0\n",
      "rating          5.0\n",
      "dtype: float64 \n",
      "\n",
      "Min values in dataset are \n",
      " userId     1.0\n",
      "movieId    1.0\n",
      "rating     0.5\n",
      "dtype: float64 \n",
      "\n"
     ]
    }
   ],
   "source": [
    "# loading the csv file containing the data\n",
    "\n",
    "ratings = pd.read_csv('Datasets/ratings.csv', usecols = ['userId', 'movieId','rating'])\n",
    "print('Shape of ratings dataset is: ',ratings.shape, '\\n')\n",
    "print('Max values in dataset are \\n',ratings.max(), '\\n')\n",
    "print('Min values in dataset are \\n',ratings.min(), '\\n')"
   ]
  },
  {
   "cell_type": "code",
   "execution_count": 3,
   "metadata": {},
   "outputs": [
    {
     "name": "stdout",
     "output_type": "stream",
     "text": [
      "Shape of ratings dataset is:  (12981742, 3) \n",
      "\n",
      "Max values in dataset are \n",
      " userId     270896.0\n",
      "movieId    176271.0\n",
      "rating          5.0\n",
      "dtype: float64 \n",
      "\n",
      "Min values in dataset are \n",
      " userId     1.0\n",
      "movieId    1.0\n",
      "rating     4.0\n",
      "dtype: float64 \n",
      "\n"
     ]
    }
   ],
   "source": [
    "# filtering the data containing rating above 4\n",
    "\n",
    "ratings = ratings[ratings['rating'] >= 4.0]\n",
    "print('Shape of ratings dataset is: ',ratings.shape, '\\n')\n",
    "print('Max values in dataset are \\n',ratings.max(), '\\n')\n",
    "print('Min values in dataset are \\n',ratings.min(), '\\n')"
   ]
  },
  {
   "cell_type": "code",
   "execution_count": 4,
   "metadata": {},
   "outputs": [
    {
     "name": "stdout",
     "output_type": "stream",
     "text": [
      "Shape of ratings dataset is:  (3165985, 3) \n",
      "\n",
      "Max values in dataset are \n",
      " userId     270896.0\n",
      "movieId      1019.0\n",
      "rating          5.0\n",
      "dtype: float64 \n",
      "\n",
      "Min values in dataset are \n",
      " userId     1.0\n",
      "movieId    1.0\n",
      "rating     4.0\n",
      "dtype: float64 \n",
      "\n"
     ]
    }
   ],
   "source": [
    "# selecting the first 1000 unique movies \n",
    "\n",
    "movies_list = np.unique(ratings['movieId'])[:1000]\n",
    "ratings = ratings.loc[ratings['movieId'].isin(movies_list)]\n",
    "print('Shape of ratings dataset is: ',ratings.shape, '\\n')\n",
    "print('Max values in dataset are \\n',ratings.max(), '\\n')\n",
    "print('Min values in dataset are \\n',ratings.min(), '\\n') "
   ]
  },
  {
   "cell_type": "code",
   "execution_count": 5,
   "metadata": {},
   "outputs": [
    {
     "name": "stdout",
     "output_type": "stream",
     "text": [
      "Shape of ratings dataset is:  (13903, 3) \n",
      "\n",
      "Max values in dataset are \n",
      " userId     1171.0\n",
      "movieId    1019.0\n",
      "rating        5.0\n",
      "dtype: float64 \n",
      "\n",
      "Min values in dataset are \n",
      " userId     1.0\n",
      "movieId    1.0\n",
      "rating     4.0\n",
      "dtype: float64 \n",
      "\n",
      "Total Users:  1000\n",
      "Total Movies which are rated by 100 users:  676\n"
     ]
    }
   ],
   "source": [
    "# selecting the first 1000 unique users\n",
    "\n",
    "users_list = np.unique(ratings['userId'])[:1000]\n",
    "ratings = ratings.loc[ratings['userId'].isin(users_list)]  \n",
    "print('Shape of ratings dataset is: ',ratings.shape, '\\n')\n",
    "print('Max values in dataset are \\n',ratings.max(), '\\n')\n",
    "print('Min values in dataset are \\n',ratings.min(), '\\n')\n",
    "print('Total Users: ', np.unique(ratings['userId']).shape[0])\n",
    "print('Total Movies which are rated by 100 users: ', np.unique(ratings['movieId']).shape[0])"
   ]
  },
  {
   "cell_type": "code",
   "execution_count": 6,
   "metadata": {},
   "outputs": [
    {
     "data": {
      "text/html": [
       "<div>\n",
       "<style scoped>\n",
       "    .dataframe tbody tr th:only-of-type {\n",
       "        vertical-align: middle;\n",
       "    }\n",
       "\n",
       "    .dataframe tbody tr th {\n",
       "        vertical-align: top;\n",
       "    }\n",
       "\n",
       "    .dataframe thead th {\n",
       "        text-align: right;\n",
       "    }\n",
       "</style>\n",
       "<table border=\"1\" class=\"dataframe\">\n",
       "  <thead>\n",
       "    <tr style=\"text-align: right;\">\n",
       "      <th></th>\n",
       "      <th>userId</th>\n",
       "      <th>movieId</th>\n",
       "    </tr>\n",
       "  </thead>\n",
       "  <tbody>\n",
       "    <tr>\n",
       "      <th>1</th>\n",
       "      <td>1</td>\n",
       "      <td>147</td>\n",
       "    </tr>\n",
       "    <tr>\n",
       "      <th>2</th>\n",
       "      <td>1</td>\n",
       "      <td>858</td>\n",
       "    </tr>\n",
       "    <tr>\n",
       "      <th>31</th>\n",
       "      <td>2</td>\n",
       "      <td>64</td>\n",
       "    </tr>\n",
       "    <tr>\n",
       "      <th>32</th>\n",
       "      <td>2</td>\n",
       "      <td>79</td>\n",
       "    </tr>\n",
       "    <tr>\n",
       "      <th>34</th>\n",
       "      <td>2</td>\n",
       "      <td>260</td>\n",
       "    </tr>\n",
       "  </tbody>\n",
       "</table>\n",
       "</div>"
      ],
      "text/plain": [
       "    userId  movieId\n",
       "1        1      147\n",
       "2        1      858\n",
       "31       2       64\n",
       "32       2       79\n",
       "34       2      260"
      ]
     },
     "execution_count": 6,
     "metadata": {},
     "output_type": "execute_result"
    }
   ],
   "source": [
    "# dataframe containing movies watched by each user\n",
    "\n",
    "users_fav_movies = ratings.loc[:, ['userId', 'movieId']]\n",
    "users_fav_movies.head()"
   ]
  },
  {
   "cell_type": "code",
   "execution_count": 7,
   "metadata": {},
   "outputs": [
    {
     "data": {
      "text/html": [
       "<div>\n",
       "<style scoped>\n",
       "    .dataframe tbody tr th:only-of-type {\n",
       "        vertical-align: middle;\n",
       "    }\n",
       "\n",
       "    .dataframe tbody tr th {\n",
       "        vertical-align: top;\n",
       "    }\n",
       "\n",
       "    .dataframe thead th {\n",
       "        text-align: right;\n",
       "    }\n",
       "</style>\n",
       "<table border=\"1\" class=\"dataframe\">\n",
       "  <thead>\n",
       "    <tr style=\"text-align: right;\">\n",
       "      <th></th>\n",
       "      <th>userId</th>\n",
       "      <th>movieId</th>\n",
       "      <th>rating</th>\n",
       "    </tr>\n",
       "  </thead>\n",
       "  <tbody>\n",
       "    <tr>\n",
       "      <th>0</th>\n",
       "      <td>1</td>\n",
       "      <td>147</td>\n",
       "      <td>4.5</td>\n",
       "    </tr>\n",
       "    <tr>\n",
       "      <th>1</th>\n",
       "      <td>1</td>\n",
       "      <td>858</td>\n",
       "      <td>5.0</td>\n",
       "    </tr>\n",
       "    <tr>\n",
       "      <th>2</th>\n",
       "      <td>2</td>\n",
       "      <td>64</td>\n",
       "      <td>4.0</td>\n",
       "    </tr>\n",
       "    <tr>\n",
       "      <th>3</th>\n",
       "      <td>2</td>\n",
       "      <td>79</td>\n",
       "      <td>4.0</td>\n",
       "    </tr>\n",
       "    <tr>\n",
       "      <th>4</th>\n",
       "      <td>2</td>\n",
       "      <td>260</td>\n",
       "      <td>4.0</td>\n",
       "    </tr>\n",
       "  </tbody>\n",
       "</table>\n",
       "</div>"
      ],
      "text/plain": [
       "   userId  movieId  rating\n",
       "0       1      147     4.5\n",
       "1       1      858     5.0\n",
       "2       2       64     4.0\n",
       "3       2       79     4.0\n",
       "4       2      260     4.0"
      ]
     },
     "execution_count": 7,
     "metadata": {},
     "output_type": "execute_result"
    }
   ],
   "source": [
    "# reseting the index\n",
    "\n",
    "users_fav_movies = ratings.reset_index(drop = True)\n",
    "users_fav_movies.head()"
   ]
  },
  {
   "cell_type": "code",
   "execution_count": 8,
   "metadata": {},
   "outputs": [
    {
     "data": {
      "text/html": [
       "<div>\n",
       "<style scoped>\n",
       "    .dataframe tbody tr th:only-of-type {\n",
       "        vertical-align: middle;\n",
       "    }\n",
       "\n",
       "    .dataframe tbody tr th {\n",
       "        vertical-align: top;\n",
       "    }\n",
       "\n",
       "    .dataframe thead th {\n",
       "        text-align: right;\n",
       "    }\n",
       "</style>\n",
       "<table border=\"1\" class=\"dataframe\">\n",
       "  <thead>\n",
       "    <tr style=\"text-align: right;\">\n",
       "      <th></th>\n",
       "      <th>0</th>\n",
       "      <th>1</th>\n",
       "      <th>2</th>\n",
       "      <th>3</th>\n",
       "      <th>4</th>\n",
       "      <th>5</th>\n",
       "      <th>6</th>\n",
       "      <th>7</th>\n",
       "      <th>8</th>\n",
       "      <th>9</th>\n",
       "      <th>...</th>\n",
       "      <th>13893</th>\n",
       "      <th>13894</th>\n",
       "      <th>13895</th>\n",
       "      <th>13896</th>\n",
       "      <th>13897</th>\n",
       "      <th>13898</th>\n",
       "      <th>13899</th>\n",
       "      <th>13900</th>\n",
       "      <th>13901</th>\n",
       "      <th>13902</th>\n",
       "    </tr>\n",
       "  </thead>\n",
       "  <tbody>\n",
       "    <tr>\n",
       "      <th>userId</th>\n",
       "      <td>1.0</td>\n",
       "      <td>1.0</td>\n",
       "      <td>2.0</td>\n",
       "      <td>2.0</td>\n",
       "      <td>2.0</td>\n",
       "      <td>2.0</td>\n",
       "      <td>2.0</td>\n",
       "      <td>2.0</td>\n",
       "      <td>2.0</td>\n",
       "      <td>2.0</td>\n",
       "      <td>...</td>\n",
       "      <td>1170.0</td>\n",
       "      <td>1170.0</td>\n",
       "      <td>1170.0</td>\n",
       "      <td>1170.0</td>\n",
       "      <td>1170.0</td>\n",
       "      <td>1170.0</td>\n",
       "      <td>1170.0</td>\n",
       "      <td>1171.0</td>\n",
       "      <td>1171.0</td>\n",
       "      <td>1171.0</td>\n",
       "    </tr>\n",
       "    <tr>\n",
       "      <th>movieId</th>\n",
       "      <td>147.0</td>\n",
       "      <td>858.0</td>\n",
       "      <td>64.0</td>\n",
       "      <td>79.0</td>\n",
       "      <td>260.0</td>\n",
       "      <td>339.0</td>\n",
       "      <td>377.0</td>\n",
       "      <td>605.0</td>\n",
       "      <td>628.0</td>\n",
       "      <td>648.0</td>\n",
       "      <td>...</td>\n",
       "      <td>597.0</td>\n",
       "      <td>608.0</td>\n",
       "      <td>648.0</td>\n",
       "      <td>785.0</td>\n",
       "      <td>805.0</td>\n",
       "      <td>858.0</td>\n",
       "      <td>919.0</td>\n",
       "      <td>368.0</td>\n",
       "      <td>497.0</td>\n",
       "      <td>594.0</td>\n",
       "    </tr>\n",
       "    <tr>\n",
       "      <th>rating</th>\n",
       "      <td>4.5</td>\n",
       "      <td>5.0</td>\n",
       "      <td>4.0</td>\n",
       "      <td>4.0</td>\n",
       "      <td>4.0</td>\n",
       "      <td>5.0</td>\n",
       "      <td>4.0</td>\n",
       "      <td>4.0</td>\n",
       "      <td>4.0</td>\n",
       "      <td>4.0</td>\n",
       "      <td>...</td>\n",
       "      <td>4.0</td>\n",
       "      <td>4.5</td>\n",
       "      <td>4.0</td>\n",
       "      <td>4.0</td>\n",
       "      <td>4.0</td>\n",
       "      <td>5.0</td>\n",
       "      <td>4.0</td>\n",
       "      <td>4.0</td>\n",
       "      <td>4.0</td>\n",
       "      <td>5.0</td>\n",
       "    </tr>\n",
       "  </tbody>\n",
       "</table>\n",
       "<p>3 rows × 13903 columns</p>\n",
       "</div>"
      ],
      "text/plain": [
       "         0      1      2      3      4      5      6      7      8      9      \\\n",
       "userId     1.0    1.0    2.0    2.0    2.0    2.0    2.0    2.0    2.0    2.0   \n",
       "movieId  147.0  858.0   64.0   79.0  260.0  339.0  377.0  605.0  628.0  648.0   \n",
       "rating     4.5    5.0    4.0    4.0    4.0    5.0    4.0    4.0    4.0    4.0   \n",
       "\n",
       "         ...   13893   13894   13895   13896   13897   13898   13899   13900  \\\n",
       "userId   ...  1170.0  1170.0  1170.0  1170.0  1170.0  1170.0  1170.0  1171.0   \n",
       "movieId  ...   597.0   608.0   648.0   785.0   805.0   858.0   919.0   368.0   \n",
       "rating   ...     4.0     4.5     4.0     4.0     4.0     5.0     4.0     4.0   \n",
       "\n",
       "          13901   13902  \n",
       "userId   1171.0  1171.0  \n",
       "movieId   497.0   594.0  \n",
       "rating      4.0     5.0  \n",
       "\n",
       "[3 rows x 13903 columns]"
      ]
     },
     "execution_count": 8,
     "metadata": {},
     "output_type": "execute_result"
    }
   ],
   "source": [
    "# final dataframe containing movies watched by each user\n",
    "users_fav_movies.T"
   ]
  },
  {
   "cell_type": "code",
   "execution_count": 9,
   "metadata": {},
   "outputs": [],
   "source": [
    "# saving the dataframe in a csv file after preprocessing\n",
    "\n",
    "users_fav_movies.to_csv('./Datasets/filtered_ratings.csv', index = False)"
   ]
  }
 ],
 "metadata": {
  "kernelspec": {
   "display_name": "Python 3.10.5 64-bit",
   "language": "python",
   "name": "python3"
  },
  "language_info": {
   "codemirror_mode": {
    "name": "ipython",
    "version": 3
   },
   "file_extension": ".py",
   "mimetype": "text/x-python",
   "name": "python",
   "nbconvert_exporter": "python",
   "pygments_lexer": "ipython3",
   "version": "3.10.5"
  },
  "orig_nbformat": 4,
  "vscode": {
   "interpreter": {
    "hash": "26de051ba29f2982a8de78e945f0abaf191376122a1563185a90213a26c5da77"
   }
  }
 },
 "nbformat": 4,
 "nbformat_minor": 2
}
